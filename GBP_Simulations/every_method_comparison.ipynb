{
 "cells": [
  {
   "cell_type": "code",
   "execution_count": 1,
   "metadata": {},
   "outputs": [],
   "source": [
    "from GBP.data import DataGenerator\n",
    "from GBP.gbp import run_GaBP_SYNC_ACCELERATED, run_GaBP_HARDWARE_BESTCASE_RESIDUAL, run_GaBP_HARDWARE_BESTCASE, run_GaBP_HARDWARE_ACCELERATED, run_GaBP_HARDWARE_ACCELERATED_RESIDUAL, run_GaBP_HARDWARE_ACCELERATED_EXCLUSION, run_GaBP_HARDWARE_ACCELERATED_EXCLUSION_NEIGHBOURS_ACROSS_STREAMS, run_GaBP_HARDWARE_ACCELERATED_EXCLUSION_NEIGHBOURS_ACROSS_STREAMS_STOCHASTIC\n",
    "# , run_GaBP_HARDWARE_ACCELERATED_EXCLUSION_NEIGHBOURS_ACROSS_2_STREAMS\n",
    "from GBP.utilities import HiddenPrints\n",
    "from GBP.visulisation import set_plot_options, get_plot_colors, NetworkxGraph, AnalyzeResult\n",
    " \n",
    "import warnings\n",
    "import matplotlib\n",
    "import numpy as np\n",
    "import math\n",
    "import random\n",
    "\n",
    "# Option 1: Suppress all warnings\n",
    "warnings.filterwarnings(\"ignore\")\n",
    "\n",
    "set_plot_options()\n",
    "colors = get_plot_colors()\n",
    "\n",
    "data_gen = DataGenerator()\n",
    "result_analyzer = AnalyzeResult()"
   ]
  },
  {
   "cell_type": "code",
   "execution_count": 2,
   "metadata": {},
   "outputs": [],
   "source": [
    "# import random\n",
    "\n",
    "# def custom_sample(items, n):\n",
    "#     indices = random.sample(range(len(items)), n)\n",
    "#     return [items[i] for i in indices]\n",
    "\n",
    "# # Example usage\n",
    "# items = [\"apple\", \"banana\", \"orange\", \"grape\", \"kiwi\"]\n",
    "# n = 10\n",
    "# selected_items = custom_sample(items, n)\n",
    "# print(selected_items)"
   ]
  },
  {
   "cell_type": "code",
   "execution_count": 3,
   "metadata": {},
   "outputs": [],
   "source": [
    "num_nodes = 100\n",
    "\n",
    "sync_convergence_threshold = 1*10**-5\n",
    "\n",
    "NODE_UPDT_PE = 20\n",
    "PEs = 1"
   ]
  },
  {
   "cell_type": "markdown",
   "metadata": {},
   "source": [
    "#### Sync"
   ]
  },
  {
   "cell_type": "code",
   "execution_count": 4,
   "metadata": {},
   "outputs": [
    {
     "name": "stdout",
     "output_type": "stream",
     "text": [
      "iteration: 1\n",
      "1.13342518560285\n",
      "-----\n",
      "iteration: 2\n",
      "0.3567170218513065\n",
      "-----\n",
      "iteration: 3\n",
      "0.23103100964230655\n",
      "-----\n",
      "iteration: 4\n",
      "0.5874443082581844\n",
      "-----\n",
      "iteration: 5\n",
      "0.595328533434388\n",
      "-----\n",
      "iteration: 6\n",
      "0.4411013165489065\n",
      "-----\n",
      "iteration: 7\n",
      "0.22141199902368286\n",
      "-----\n",
      "iteration: 8\n",
      "0.17510092019398818\n",
      "-----\n",
      "iteration: 9\n",
      "0.11209519281769928\n",
      "-----\n",
      "iteration: 10\n",
      "0.15071754406794746\n",
      "-----\n",
      "iteration: 11\n",
      "0.16174518808563745\n",
      "-----\n",
      "iteration: 12\n",
      "0.03444510793017035\n",
      "-----\n",
      "iteration: 13\n",
      "0.03928410897623224\n",
      "-----\n",
      "iteration: 14\n",
      "0.025538254795085376\n",
      "-----\n",
      "iteration: 15\n",
      "0.04668096300679627\n",
      "-----\n",
      "iteration: 16\n",
      "0.03452863501303974\n",
      "-----\n",
      "iteration: 17\n",
      "0.03549393941119235\n",
      "-----\n",
      "iteration: 18\n",
      "0.0022889119499475584\n",
      "-----\n",
      "iteration: 19\n",
      "0.012936222938468526\n",
      "-----\n",
      "iteration: 20\n",
      "0.004718049570424752\n",
      "-----\n",
      "iteration: 21\n",
      "0.005683478207641629\n",
      "-----\n",
      "iteration: 22\n",
      "0.00651686648291927\n",
      "-----\n",
      "iteration: 23\n",
      "0.0010565873674009939\n",
      "-----\n",
      "iteration: 24\n",
      "0.0011782443331175077\n",
      "-----\n",
      "iteration: 25\n",
      "0.0013236435464950914\n",
      "-----\n",
      "iteration: 26\n",
      "0.0002883354291363197\n",
      "-----\n",
      "iteration: 27\n",
      "0.0007891103093914145\n",
      "-----\n",
      "iteration: 28\n",
      "0.00038422127809776044\n",
      "-----\n",
      "iteration: 29\n",
      "0.000507607904935235\n",
      "-----\n",
      "iteration: 30\n",
      "0.0006381552787310318\n",
      "-----\n",
      "iteration: 31\n",
      "8.675969714958596e-05\n",
      "-----\n",
      "iteration: 32\n",
      "1.5355514661031387e-05\n",
      "-----\n",
      "iteration: 33\n",
      "2.4283836795125035e-05\n",
      "-----\n",
      "iteration: 34\n",
      "1.5502314746199208e-05\n",
      "-----\n",
      "iteration: 35\n",
      "1.4152926477582159e-05\n",
      "-----\n",
      "iteration: 36\n",
      "3.7487898167688936e-06\n",
      "-----\n",
      "NUMBER SYNC ITERATIONS = 36\n"
     ]
    }
   ],
   "source": [
    "sum_of_iterations = 0\n",
    "num_iterations = 1\n",
    "\n",
    "TRIES = 100_000\n",
    "ASYNC_ITER = 10\n",
    "\n",
    "for _ in range(TRIES):\n",
    "    A, b = data_gen.get_1D_line_matrix(num_nodes, scaling=True, normalized=False)\n",
    "    # A, b = data_gen.get_2D_lattice_matrix(int(math.sqrt(num_nodes)), int(math.sqrt(num_nodes)))\n",
    "    graph = NetworkxGraph(A)\n",
    "    P_i, mu_i, N_i, P_ii, mu_ii, P_ij, mu_ij, iter_dist, stand_divs, means, iteration = run_GaBP_SYNC_ACCELERATED(A, b, max_iter=100_000, mae=False, convergence_threshold=sync_convergence_threshold, show=True)\n",
    "    sum_of_iterations += iteration\n",
    "    final_mean = list(mu_i)\n",
    "    final_std = P_i\n",
    "    if iteration < 100000:\n",
    "        break\n",
    "    else:\n",
    "        iteration = float(\"inf\")\n",
    "        print(\"=========== RESTART ===========\")\n",
    "\n",
    "print(f\"NUMBER SYNC ITERATIONS = {iteration}\")"
   ]
  },
  {
   "cell_type": "markdown",
   "metadata": {},
   "source": [
    "#### Random - No Cache"
   ]
  },
  {
   "cell_type": "code",
   "execution_count": 5,
   "metadata": {},
   "outputs": [
    {
     "name": "stdout",
     "output_type": "stream",
     "text": [
      "-------------- ITERATION = 1 => Streams = 148 --------------\n",
      "-------------- ITERATION = 2 => Streams = 186 --------------\n",
      "-------------- ITERATION = 3 => Streams = 152 --------------\n",
      "-------------- ITERATION = 4 => Streams = 168 --------------\n",
      "-------------- ITERATION = 5 => Streams = 141 --------------\n",
      "-------------- ITERATION = 6 => Streams = 132 --------------\n",
      "-------------- ITERATION = 7 => Streams = 147 --------------\n",
      "-------------- ITERATION = 8 => Streams = 121 --------------\n",
      "-------------- ITERATION = 9 => Streams = 135 --------------\n",
      "-------------- ITERATION = 10 => Streams = 161 --------------\n",
      "AVE. ASYNC ITERATIONS = 149.1\n",
      "-------------- ITERATION = 1 => Streams = 125 --------------\n",
      "-------------- ITERATION = 2 => Streams = 146 --------------\n",
      "-------------- ITERATION = 3 => Streams = 140 --------------\n",
      "-------------- ITERATION = 4 => Streams = 163 --------------\n",
      "-------------- ITERATION = 5 => Streams = 169 --------------\n",
      "-------------- ITERATION = 6 => Streams = 159 --------------\n",
      "-------------- ITERATION = 7 => Streams = 167 --------------\n",
      "-------------- ITERATION = 8 => Streams = 156 --------------\n",
      "-------------- ITERATION = 9 => Streams = 149 --------------\n",
      "-------------- ITERATION = 10 => Streams = 172 --------------\n",
      "AVE. ASYNC ITERATIONS = 154.6\n"
     ]
    }
   ],
   "source": [
    "async_convergence_threshold = 1*10**-2\n",
    "\n",
    "sum_of_iterations = 0\n",
    "num_iterations = ASYNC_ITER\n",
    "\n",
    "for it in range(0,num_iterations):\n",
    "    # print(f\"-------------- ITERATION = {it+1} --------------\")\n",
    "    P_i, mu_i, iteration = run_GaBP_HARDWARE_ACCELERATED(A, b, caching=False, node_updates_per_pe=NODE_UPDT_PE, number_pes=PEs, TRUE_MEAN=final_mean, max_iter=10000, mae=False, convergence_threshold=async_convergence_threshold, show=False)\n",
    "    sum_of_iterations += iteration\n",
    "    print(f\"-------------- ITERATION = {it+1} => Streams = {iteration} --------------\")\n",
    "\n",
    "print(f\"AVE. ASYNC ITERATIONS = {sum_of_iterations/num_iterations}\")\n",
    "\n",
    "async_convergence_threshold = 1*10**-2\n",
    "\n",
    "sum_of_iterations = 0\n",
    "num_iterations = ASYNC_ITER\n",
    "\n",
    "for it in range(0,num_iterations):\n",
    "    # print(f\"-------------- ITERATION = {it+1} --------------\")\n",
    "    P_i, mu_i, iteration = run_GaBP_HARDWARE_ACCELERATED(A, b, caching=False, node_updates_per_pe=NODE_UPDT_PE/2, number_pes=2*PEs, TRUE_MEAN=final_mean, max_iter=10000, mae=False, convergence_threshold=async_convergence_threshold, show=False)\n",
    "    sum_of_iterations += iteration\n",
    "    print(f\"-------------- ITERATION = {it+1} => Streams = {iteration} --------------\")\n",
    "\n",
    "print(f\"AVE. ASYNC ITERATIONS = {sum_of_iterations/num_iterations}\")"
   ]
  },
  {
   "cell_type": "markdown",
   "metadata": {},
   "source": [
    "#### Random - with Cache"
   ]
  },
  {
   "cell_type": "code",
   "execution_count": 6,
   "metadata": {},
   "outputs": [
    {
     "name": "stdout",
     "output_type": "stream",
     "text": [
      "-------------- ITERATION = 1 => Streams = 123 --------------\n",
      "-------------- ITERATION = 2 => Streams = 114 --------------\n",
      "-------------- ITERATION = 3 => Streams = 110 --------------\n",
      "-------------- ITERATION = 4 => Streams = 135 --------------\n",
      "-------------- ITERATION = 5 => Streams = 115 --------------\n",
      "-------------- ITERATION = 6 => Streams = 113 --------------\n",
      "-------------- ITERATION = 7 => Streams = 109 --------------\n",
      "-------------- ITERATION = 8 => Streams = 175 --------------\n",
      "-------------- ITERATION = 9 => Streams = 160 --------------\n",
      "-------------- ITERATION = 10 => Streams = 141 --------------\n",
      "AVE. ASYNC ITERATIONS = 129.5\n",
      "-------------- ITERATION = 1 => Streams = 147 --------------\n",
      "-------------- ITERATION = 2 => Streams = 116 --------------\n",
      "-------------- ITERATION = 3 => Streams = 133 --------------\n",
      "-------------- ITERATION = 4 => Streams = 131 --------------\n",
      "-------------- ITERATION = 5 => Streams = 126 --------------\n",
      "-------------- ITERATION = 6 => Streams = 140 --------------\n",
      "-------------- ITERATION = 7 => Streams = 114 --------------\n",
      "-------------- ITERATION = 8 => Streams = 113 --------------\n",
      "-------------- ITERATION = 9 => Streams = 117 --------------\n",
      "-------------- ITERATION = 10 => Streams = 110 --------------\n",
      "AVE. ASYNC ITERATIONS = 124.7\n"
     ]
    }
   ],
   "source": [
    "async_convergence_threshold = 1*10**-2\n",
    "\n",
    "sum_of_iterations = 0\n",
    "num_iterations = ASYNC_ITER\n",
    "\n",
    "for it in range(0,num_iterations):\n",
    "    # print(f\"-------------- ITERATION = {it+1} --------------\")\n",
    "    P_i, mu_i, iteration = run_GaBP_HARDWARE_ACCELERATED(A, b, caching=True, node_updates_per_pe=NODE_UPDT_PE, number_pes=PEs, TRUE_MEAN=final_mean, max_iter=10000, mae=False, convergence_threshold=async_convergence_threshold, show=False)\n",
    "    sum_of_iterations += iteration\n",
    "    print(f\"-------------- ITERATION = {it+1} => Streams = {iteration} --------------\")\n",
    "\n",
    "print(f\"AVE. ASYNC ITERATIONS = {sum_of_iterations/num_iterations}\")\n",
    "\n",
    "\n",
    "async_convergence_threshold = 1*10**-2\n",
    "\n",
    "sum_of_iterations = 0\n",
    "num_iterations = ASYNC_ITER\n",
    "\n",
    "for it in range(0,num_iterations):\n",
    "    # print(f\"-------------- ITERATION = {it+1} --------------\")\n",
    "    P_i, mu_i, iteration = run_GaBP_HARDWARE_ACCELERATED(A, b, caching=True, node_updates_per_pe=NODE_UPDT_PE/2, number_pes=PEs*2, TRUE_MEAN=final_mean, max_iter=10000, mae=False, convergence_threshold=async_convergence_threshold, show=False)\n",
    "    sum_of_iterations += iteration\n",
    "    print(f\"-------------- ITERATION = {it+1} => Streams = {iteration} --------------\")\n",
    "\n",
    "print(f\"AVE. ASYNC ITERATIONS = {sum_of_iterations/num_iterations}\")"
   ]
  },
  {
   "cell_type": "markdown",
   "metadata": {},
   "source": [
    "#### Random (Exclusion) - No Cache"
   ]
  },
  {
   "cell_type": "code",
   "execution_count": 21,
   "metadata": {},
   "outputs": [
    {
     "name": "stdout",
     "output_type": "stream",
     "text": [
      "-------------- ITERATION = 1 => Streams = 217 --------------\n",
      "-------------- ITERATION = 2 => Streams = 281 --------------\n",
      "-------------- ITERATION = 3 => Streams = 239 --------------\n",
      "-------------- ITERATION = 4 => Streams = 243 --------------\n",
      "-------------- ITERATION = 5 => Streams = 265 --------------\n",
      "-------------- ITERATION = 6 => Streams = 219 --------------\n",
      "-------------- ITERATION = 7 => Streams = 239 --------------\n",
      "-------------- ITERATION = 8 => Streams = 264 --------------\n",
      "-------------- ITERATION = 9 => Streams = 208 --------------\n",
      "-------------- ITERATION = 10 => Streams = 224 --------------\n",
      "AVE. ASYNC ITERATIONS = 239.9\n"
     ]
    }
   ],
   "source": [
    "async_convergence_threshold = 1*10**-2\n",
    "\n",
    "sum_of_iterations = 0\n",
    "num_iterations = ASYNC_ITER\n",
    "\n",
    "it = 0\n",
    "\n",
    "while (it < num_iterations):\n",
    "\n",
    "    # print(f\"-------------- ITERATION = {it+1} --------------\")\n",
    "    P_i, mu_i, iteration, _ = run_GaBP_HARDWARE_ACCELERATED_EXCLUSION(A, b, node_updates_per_pe=NODE_UPDT_PE, number_pes=PEs, TRUE_MEAN=final_mean, max_iter=100_000, mae=False, convergence_threshold=async_convergence_threshold, show=False)\n",
    "    \n",
    "    if iteration > 0:\n",
    "        sum_of_iterations += iteration\n",
    "        print(f\"-------------- ITERATION = {it+1} => Streams = {iteration} --------------\")\n",
    "        it += 1\n",
    "\n",
    "print(f\"AVE. ASYNC ITERATIONS = {sum_of_iterations/num_iterations}\")"
   ]
  },
  {
   "cell_type": "markdown",
   "metadata": {},
   "source": [
    "#### Random (Exclusion) - With Cache"
   ]
  },
  {
   "cell_type": "code",
   "execution_count": 22,
   "metadata": {},
   "outputs": [
    {
     "name": "stdout",
     "output_type": "stream",
     "text": [
      "-------------- ITERATION = 1 => Streams = 224 --------------\n",
      "-------------- ITERATION = 2 => Streams = 272 --------------\n",
      "-------------- ITERATION = 3 => Streams = 214 --------------\n",
      "-------------- ITERATION = 4 => Streams = 203 --------------\n",
      "-------------- ITERATION = 5 => Streams = 253 --------------\n",
      "-------------- ITERATION = 6 => Streams = 174 --------------\n",
      "-------------- ITERATION = 7 => Streams = 168 --------------\n",
      "-------------- ITERATION = 8 => Streams = 192 --------------\n",
      "-------------- ITERATION = 9 => Streams = 197 --------------\n",
      "-------------- ITERATION = 10 => Streams = 201 --------------\n",
      "AVE. ASYNC ITERATIONS = 209.8\n"
     ]
    }
   ],
   "source": [
    "async_convergence_threshold = 1*10**-2\n",
    "\n",
    "sum_of_iterations = 0\n",
    "num_iterations = ASYNC_ITER\n",
    "\n",
    "for it in range(0,num_iterations):\n",
    "    # print(f\"-------------- ITERATION = {it+1} --------------\")\n",
    "    P_i, mu_i, iteration, _ = run_GaBP_HARDWARE_ACCELERATED_EXCLUSION(A, b, caching=True, node_updates_per_pe=NODE_UPDT_PE, number_pes=PEs, TRUE_MEAN=final_mean, max_iter=10000, mae=False, convergence_threshold=async_convergence_threshold, show=False)\n",
    "    sum_of_iterations += iteration\n",
    "    print(f\"-------------- ITERATION = {it+1} => Streams = {iteration} --------------\")\n",
    "\n",
    "print(f\"AVE. ASYNC ITERATIONS = {sum_of_iterations/num_iterations}\")"
   ]
  },
  {
   "cell_type": "markdown",
   "metadata": {},
   "source": [
    "#### Residual - with Cache"
   ]
  },
  {
   "cell_type": "code",
   "execution_count": 23,
   "metadata": {},
   "outputs": [
    {
     "name": "stdout",
     "output_type": "stream",
     "text": [
      "-------------- ITERATION = 1 => Streams = 81 --------------\n",
      "-------------- ITERATION = 2 => Streams = 95 --------------\n",
      "-------------- ITERATION = 3 => Streams = 90 --------------\n",
      "-------------- ITERATION = 4 => Streams = 91 --------------\n",
      "-------------- ITERATION = 5 => Streams = 79 --------------\n",
      "-------------- ITERATION = 6 => Streams = 79 --------------\n",
      "-------------- ITERATION = 7 => Streams = 86 --------------\n",
      "-------------- ITERATION = 8 => Streams = 88 --------------\n",
      "-------------- ITERATION = 9 => Streams = 93 --------------\n",
      "-------------- ITERATION = 10 => Streams = 88 --------------\n",
      "AVE. ASYNC ITERATIONS = 87.0\n"
     ]
    }
   ],
   "source": [
    "async_convergence_threshold = 1*10**-2\n",
    "\n",
    "sum_of_iterations = 0\n",
    "num_iterations = ASYNC_ITER\n",
    "\n",
    "for it in range(0,num_iterations):\n",
    "    # print(f\"-------------- ITERATION = {it+1} --------------\")\n",
    "    P_i, mu_i, iteration = run_GaBP_HARDWARE_ACCELERATED_RESIDUAL(A, b, caching=False, node_updates_per_pe=NODE_UPDT_PE, number_pes=PEs, TRUE_MEAN=final_mean, max_iter=10000, mae=False, convergence_threshold=async_convergence_threshold, show=False)\n",
    "    sum_of_iterations += iteration\n",
    "    print(f\"-------------- ITERATION = {it+1} => Streams = {iteration} --------------\")\n",
    "\n",
    "print(f\"AVE. ASYNC ITERATIONS = {sum_of_iterations/num_iterations}\")"
   ]
  },
  {
   "cell_type": "markdown",
   "metadata": {},
   "source": [
    "#### Residual - with Cache"
   ]
  },
  {
   "cell_type": "code",
   "execution_count": 24,
   "metadata": {},
   "outputs": [
    {
     "name": "stdout",
     "output_type": "stream",
     "text": [
      "-------------- ITERATION = 1 => Streams = 76 --------------\n",
      "-------------- ITERATION = 2 => Streams = 73 --------------\n",
      "-------------- ITERATION = 3 => Streams = 77 --------------\n",
      "-------------- ITERATION = 4 => Streams = 84 --------------\n",
      "-------------- ITERATION = 5 => Streams = 74 --------------\n",
      "-------------- ITERATION = 6 => Streams = 76 --------------\n",
      "-------------- ITERATION = 7 => Streams = 76 --------------\n",
      "-------------- ITERATION = 8 => Streams = 76 --------------\n",
      "-------------- ITERATION = 9 => Streams = 76 --------------\n",
      "-------------- ITERATION = 10 => Streams = 78 --------------\n",
      "AVE. ASYNC ITERATIONS = 76.6\n"
     ]
    }
   ],
   "source": [
    "async_convergence_threshold = 1*10**-2\n",
    "\n",
    "sum_of_iterations = 0\n",
    "num_iterations = ASYNC_ITER\n",
    "\n",
    "for it in range(0,num_iterations):\n",
    "    # print(f\"-------------- ITERATION = {it+1} --------------\")\n",
    "    P_i, mu_i, iteration = run_GaBP_HARDWARE_ACCELERATED_RESIDUAL(A, b, caching=True, node_updates_per_pe=NODE_UPDT_PE, number_pes=PEs, TRUE_MEAN=final_mean, max_iter=10000, mae=False, convergence_threshold=async_convergence_threshold, show=False)\n",
    "    sum_of_iterations += iteration\n",
    "    print(f\"-------------- ITERATION = {it+1} => Streams = {iteration} --------------\")\n",
    "\n",
    "print(f\"AVE. ASYNC ITERATIONS = {sum_of_iterations/num_iterations}\")"
   ]
  },
  {
   "cell_type": "markdown",
   "metadata": {},
   "source": [
    "#### Fixed - No Caching"
   ]
  },
  {
   "cell_type": "code",
   "execution_count": 25,
   "metadata": {},
   "outputs": [
    {
     "name": "stdout",
     "output_type": "stream",
     "text": [
      "-------------- ITERATION = 1 => Streams = 132 --------------\n",
      "-------------- ITERATION = 2 => Streams = 137 --------------\n",
      "-------------- ITERATION = 3 => Streams = 147 --------------\n",
      "-------------- ITERATION = 4 => Streams = 131 --------------\n",
      "-------------- ITERATION = 5 => Streams = 128 --------------\n",
      "-------------- ITERATION = 6 => Streams = 145 --------------\n",
      "-------------- ITERATION = 7 => Streams = 136 --------------\n",
      "-------------- ITERATION = 8 => Streams = 120 --------------\n",
      "-------------- ITERATION = 9 => Streams = 140 --------------\n",
      "-------------- ITERATION = 10 => Streams = 125 --------------\n",
      "AVE. ASYNC ITERATIONS = 134.1\n"
     ]
    }
   ],
   "source": [
    "async_convergence_threshold = 1*10**-2\n",
    "\n",
    "sum_of_iterations = 0\n",
    "num_iterations = ASYNC_ITER\n",
    "\n",
    "for it in range(0,num_iterations):\n",
    "    node_update_schedule = np.arange(num_nodes, dtype=np.int64)\n",
    "    np.random.shuffle(node_update_schedule)\n",
    "    P_i, mu_i, iteration = run_GaBP_HARDWARE_ACCELERATED(A, b, caching=False, mode='fixed', node_update_schedule_enter=node_update_schedule, node_updates_per_pe=NODE_UPDT_PE, number_pes=PEs, TRUE_MEAN=final_mean, max_iter=10000, mae=False, convergence_threshold=async_convergence_threshold, show=False)\n",
    "    print(f\"-------------- ITERATION = {it+1} => Streams = {iteration} --------------\")\n",
    "    # print(f\"streams = {iteration}\")\n",
    "    # print(f\"node_update_schedule = {node_update_schedule}\")\n",
    "    sum_of_iterations += iteration\n",
    "\n",
    "print(f\"AVE. ASYNC ITERATIONS = {sum_of_iterations/num_iterations}\")"
   ]
  },
  {
   "cell_type": "markdown",
   "metadata": {},
   "source": [
    "### Fixed - Cache"
   ]
  },
  {
   "cell_type": "code",
   "execution_count": 26,
   "metadata": {},
   "outputs": [
    {
     "name": "stdout",
     "output_type": "stream",
     "text": [
      "-------------- ITERATION = 1 => Streams = 104 --------------\n",
      "-------------- ITERATION = 2 => Streams = 121 --------------\n",
      "-------------- ITERATION = 3 => Streams = 119 --------------\n",
      "-------------- ITERATION = 4 => Streams = 115 --------------\n",
      "-------------- ITERATION = 5 => Streams = 110 --------------\n",
      "-------------- ITERATION = 6 => Streams = 114 --------------\n",
      "-------------- ITERATION = 7 => Streams = 113 --------------\n",
      "-------------- ITERATION = 8 => Streams = 126 --------------\n",
      "-------------- ITERATION = 9 => Streams = 110 --------------\n",
      "-------------- ITERATION = 10 => Streams = 120 --------------\n",
      "AVE. ASYNC ITERATIONS = 115.2\n"
     ]
    }
   ],
   "source": [
    "async_convergence_threshold = 1*10**-2\n",
    "\n",
    "sum_of_iterations = 0\n",
    "num_iterations = ASYNC_ITER\n",
    "\n",
    "for it in range(0,num_iterations):\n",
    "    node_update_schedule = np.arange(num_nodes, dtype=np.int64)\n",
    "    np.random.shuffle(node_update_schedule)\n",
    "    P_i, mu_i, iteration = run_GaBP_HARDWARE_ACCELERATED(A, b, caching=True, mode='fixed', node_update_schedule_enter=node_update_schedule, node_updates_per_pe=NODE_UPDT_PE, number_pes=PEs, TRUE_MEAN=final_mean, max_iter=10000, mae=False, convergence_threshold=async_convergence_threshold, show=False)\n",
    "    print(f\"-------------- ITERATION = {it+1} => Streams = {iteration} --------------\")\n",
    "    # print(f\"streams = {iteration}\")\n",
    "    # print(f\"node_update_schedule = {node_update_schedule}\")\n",
    "    sum_of_iterations += iteration\n",
    "\n",
    "print(f\"AVE. ASYNC ITERATIONS = {sum_of_iterations/num_iterations}\")"
   ]
  },
  {
   "cell_type": "markdown",
   "metadata": {},
   "source": []
  },
  {
   "cell_type": "markdown",
   "metadata": {},
   "source": []
  },
  {
   "cell_type": "markdown",
   "metadata": {},
   "source": []
  },
  {
   "cell_type": "markdown",
   "metadata": {},
   "source": []
  },
  {
   "cell_type": "markdown",
   "metadata": {},
   "source": [
    "### NO STREAMS (BESTCASE)"
   ]
  },
  {
   "cell_type": "code",
   "execution_count": 27,
   "metadata": {},
   "outputs": [],
   "source": [
    "# async_convergence_threshold = 1*10**-2\n",
    "\n",
    "# sum_of_iterations = 0\n",
    "# num_iterations = 100\n",
    "\n",
    "# for it in range(0,num_iterations):\n",
    "#     # print(f\"-------------- ITERATION = {it+1} --------------\")\n",
    "#     P_i, mu_i, iteration = run_GaBP_HARDWARE_BESTCASE(A, b, node_updates_per_stream=NODE_UPDT_PE, TRUE_MEAN=final_mean, max_iter=10000, mae=False, convergence_threshold=async_convergence_threshold, show=True)\n",
    "#     sum_of_iterations += iteration\n",
    "#     print(f\"-------------- ITERATION = {it+1} => Streams = {iteration} --------------\")\n",
    "\n",
    "# print(f\"AVE. ASYNC ITERATIONS = {sum_of_iterations/num_iterations}\")"
   ]
  },
  {
   "cell_type": "markdown",
   "metadata": {},
   "source": [
    "### NO STREAMS (RESIDUAL)"
   ]
  },
  {
   "cell_type": "code",
   "execution_count": 28,
   "metadata": {},
   "outputs": [],
   "source": [
    "# async_convergence_threshold = 1*10**-2\n",
    "\n",
    "# sum_of_iterations = 0\n",
    "# num_iterations = 100\n",
    "\n",
    "# for it in range(0,num_iterations):\n",
    "#     # print(f\"-------------- ITERATION = {it+1} --------------\")\n",
    "#     P_i, mu_i, iteration = run_GaBP_HARDWARE_BESTCASE_RESIDUAL(A, b, node_updates_per_stream=NODE_UPDT_PE, TRUE_MEAN=final_mean, max_iter=500, mae=False, convergence_threshold=async_convergence_threshold, show=False)\n",
    "#     sum_of_iterations += iteration\n",
    "#     print(f\"-------------- ITERATION = {it+1} => Streams = {iteration} --------------\")\n",
    "\n",
    "# print(f\"AVE. ASYNC ITERATIONS = {sum_of_iterations/num_iterations}\")"
   ]
  }
 ],
 "metadata": {
  "kernelspec": {
   "display_name": "Python 3",
   "language": "python",
   "name": "python3"
  },
  "language_info": {
   "codemirror_mode": {
    "name": "ipython",
    "version": 3
   },
   "file_extension": ".py",
   "mimetype": "text/x-python",
   "name": "python",
   "nbconvert_exporter": "python",
   "pygments_lexer": "ipython3",
   "version": "3.10.6"
  }
 },
 "nbformat": 4,
 "nbformat_minor": 2
}
