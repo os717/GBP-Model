{
 "cells": [
  {
   "cell_type": "code",
   "execution_count": 1,
   "metadata": {},
   "outputs": [],
   "source": [
    "from GBP.data import DataGenerator\n",
    "from GBP.utilities import HiddenPrints\n",
    "from GBP.visulisation import set_plot_options, get_plot_colors, NetworkxGraph, AnalyzeResult\n",
    " \n",
    "import warnings\n",
    "import matplotlib\n",
    "import numpy as np\n",
    "import math\n",
    "import random\n",
    "import os\n",
    "\n",
    "# Option 1: Suppress all warnings\n",
    "warnings.filterwarnings(\"ignore\")\n",
    "\n",
    "set_plot_options()\n",
    "colors = get_plot_colors()\n",
    "\n",
    "data_gen = DataGenerator()\n",
    "result_analyzer = AnalyzeResult()"
   ]
  },
  {
   "cell_type": "code",
   "execution_count": 2,
   "metadata": {},
   "outputs": [],
   "source": [
    "file_path = 'GBP/Raw_Datasets/data/input_Intel_g2o.g2o'\n",
    "data_gen.generate_SLAM_dataset(file_path=file_path)"
   ]
  },
  {
   "cell_type": "code",
   "execution_count": 3,
   "metadata": {},
   "outputs": [
    {
     "name": "stdout",
     "output_type": "stream",
     "text": [
      "Save File: GBP/Raw_Datasets/gbp_data/input_Intel_g2o.txt\n"
     ]
    }
   ],
   "source": [
    "import os\n",
    "\n",
    "file_path = 'GBP/Raw_Datasets/data/input_Intel_g2o.g2o'\n",
    "\n",
    "# Extract the desired part of the file path\n",
    "desired_part = file_path.split('/')[-1].rsplit('.', 1)[0] + '.txt'\n",
    "directory_path = os.path.join(os.path.dirname(os.path.dirname(file_path)), 'gbp_data')\n",
    "savefile = os.path.join(directory_path, desired_part)\n",
    "\n",
    "print(\"Save File:\", savefile)\n"
   ]
  }
 ],
 "metadata": {
  "kernelspec": {
   "display_name": "Python 3",
   "language": "python",
   "name": "python3"
  },
  "language_info": {
   "codemirror_mode": {
    "name": "ipython",
    "version": 3
   },
   "file_extension": ".py",
   "mimetype": "text/x-python",
   "name": "python",
   "nbconvert_exporter": "python",
   "pygments_lexer": "ipython3",
   "version": "3.10.6"
  }
 },
 "nbformat": 4,
 "nbformat_minor": 2
}
