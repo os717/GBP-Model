{
 "cells": [
  {
   "cell_type": "code",
   "execution_count": null,
   "metadata": {},
   "outputs": [],
   "source": [
    "from GBP.data import DataGenerator\n",
    "from GBP.gbp import run_GaBP_SYNC_ACCELERATED, run_GaBP_HARDWARE_ACCELERATED, run_GaBP_HARDWARE_ACCELERATED_RESIDUAL_COARSE\n",
    "from GBP.utilities import HiddenPrints\n",
    "from GBP.visulisation import set_plot_options, get_plot_colors, NetworkxGraph, AnalyzeResult\n",
    "\n",
    "import warnings\n",
    "import matplotlib\n",
    "import numpy as np\n",
    "import math\n",
    "import random\n",
    "\n",
    "# Option 1: Suppress all warnings\n",
    "warnings.filterwarnings(\"ignore\")\n",
    "\n",
    "set_plot_options()\n",
    "colors = get_plot_colors()\n",
    "\n",
    "data_gen = DataGenerator()\n",
    "result_analyzer = AnalyzeResult()"
   ]
  },
  {
   "cell_type": "code",
   "execution_count": null,
   "metadata": {},
   "outputs": [],
   "source": [
    "import random\n",
    "\n",
    "def custom_sample(items, n):\n",
    "    indices = random.sample(range(len(items)), n)\n",
    "    return [items[i] for i in indices]\n",
    "\n",
    "# Example usage\n",
    "items = [\"apple\", \"banana\", \"orange\", \"grape\", \"kiwi\"]\n",
    "n = 3\n",
    "selected_items = custom_sample(items, n)\n",
    "print(selected_items)"
   ]
  },
  {
   "cell_type": "code",
   "execution_count": null,
   "metadata": {},
   "outputs": [],
   "source": [
    "num_nodes = 10\n",
    "\n",
    "A, b = data_gen.get_1D_line_matrix(num_nodes, scaling=True, normalized=False)\n",
    "# A, b = data_gen.get_2D_lattice_matrix(num_nodes, num_nodes)\n",
    "graph = NetworkxGraph(A)\n",
    "# graph.draw_graph()\n",
    "\n",
    "sync_convergence_threshold = 1*10**-5"
   ]
  },
  {
   "cell_type": "markdown",
   "metadata": {},
   "source": [
    "#### Sync"
   ]
  },
  {
   "cell_type": "code",
   "execution_count": null,
   "metadata": {},
   "outputs": [],
   "source": [
    "sum_of_iterations = 0\n",
    "num_iterations = 1\n",
    "\n",
    "for it in range(0,num_iterations):\n",
    "    print(f\"-------------- ITERATION = {it+1} --------------\")\n",
    "    P_i, mu_i, N_i, P_ii, mu_ii, P_ij, mu_ij, iter_dist, stand_divs, means, iteration = run_GaBP_SYNC_ACCELERATED(A, b, max_iter=100000, mae=False, convergence_threshold=sync_convergence_threshold, show=True)\n",
    "    sum_of_iterations += iteration\n",
    "    final_mean = list(mu_i)\n",
    "    final_std = P_i\n",
    "\n",
    "print(f\"AVE. SYNC ITERATIONS = {sum_of_iterations/num_iterations}\")"
   ]
  },
  {
   "cell_type": "markdown",
   "metadata": {},
   "source": [
    "#### Async Random - No Capping"
   ]
  },
  {
   "cell_type": "code",
   "execution_count": null,
   "metadata": {},
   "outputs": [],
   "source": [
    "# async_convergence_threshold = 1*10**-2\n",
    "\n",
    "# sum_of_iterations = 0\n",
    "# num_iterations = 100\n",
    "\n",
    "# for it in range(0,num_iterations):\n",
    "#     print(f\"-------------- ITERATION = {it+1} --------------\")\n",
    "#     P_i, mu_i, iteration = run_GaBP_HARDWARE_ACCELERATED(A, b, node_updates_per_pe=1, number_pes=num_nodes//2, TRUE_MEAN=final_mean, max_iter=10000, mae=False, convergence_threshold=async_convergence_threshold, show=False)\n",
    "#     sum_of_iterations += iteration\n",
    "\n",
    "# print(f\"AVE. ASYNC ITERATIONS = {sum_of_iterations/num_iterations}\")"
   ]
  },
  {
   "cell_type": "markdown",
   "metadata": {},
   "source": [
    "#### Async Random - Capping to 1 Factor Used"
   ]
  },
  {
   "cell_type": "code",
   "execution_count": null,
   "metadata": {},
   "outputs": [],
   "source": [
    "async_convergence_threshold = 1*10**-2\n",
    "\n",
    "sum_of_iterations = 0\n",
    "num_iterations = 100\n",
    "\n",
    "for it in range(0,num_iterations):\n",
    "    print(f\"-------------- ITERATION = {it+1} --------------\")\n",
    "    P_i, mu_i, iteration = run_GaBP_HARDWARE_ACCELERATED_RESIDUAL_COARSE(A, b, node_updates_per_pe=1, number_pes=num_nodes//2, TRUE_MEAN=final_mean, max_iter=10000, mae=False, convergence_threshold=async_convergence_threshold, show=False)\n",
    "    sum_of_iterations += iteration\n",
    "\n",
    "print(f\"AVE. ASYNC ITERATIONS = {sum_of_iterations/num_iterations}\")"
   ]
  },
  {
   "cell_type": "markdown",
   "metadata": {},
   "source": [
    "#### Fixed - No Capping"
   ]
  },
  {
   "cell_type": "code",
   "execution_count": null,
   "metadata": {},
   "outputs": [],
   "source": [
    "# async_convergence_threshold = 1*10**-2\n",
    "\n",
    "# sum_of_iterations = 0\n",
    "# num_iterations = 100\n",
    "\n",
    "# for it in range(0,num_iterations):\n",
    "#     print(f\"-------------- ITERATION = {it+1} --------------\")\n",
    "#     node_update_schedule = np.arange(num_nodes, dtype=np.int64)\n",
    "#     np.random.shuffle(node_update_schedule)\n",
    "#     P_i, mu_i, iteration = run_GaBP_HARDWARE_ACCELERATED(A, b, mode='fixed', node_update_schedule_enter=node_update_schedule, node_updates_per_pe=1, number_pes=num_nodes//2, TRUE_MEAN=final_mean, max_iter=10000, mae=False, convergence_threshold=async_convergence_threshold, show=False)\n",
    "#     sum_of_iterations += iteration\n",
    "\n",
    "# print(f\"AVE. ASYNC ITERATIONS = {sum_of_iterations/num_iterations}\")"
   ]
  },
  {
   "cell_type": "markdown",
   "metadata": {},
   "source": [
    "#### Fixed - Capping to 1 Factor Used"
   ]
  },
  {
   "cell_type": "code",
   "execution_count": null,
   "metadata": {},
   "outputs": [],
   "source": [
    "# async_convergence_threshold = 1*10**-2\n",
    "\n",
    "# sum_of_iterations = 0\n",
    "# num_iterations = 1000\n",
    "\n",
    "# for it in range(0,num_iterations):\n",
    "#     print(f\"-------------- ITERATION = {it+1} --------------\")\n",
    "#     node_update_schedule = np.arange(num_nodes, dtype=np.int64)\n",
    "#     np.random.shuffle(node_update_schedule)\n",
    "#     P_i, mu_i, iteration = run_GaBP_HARDWARE_ACCELERATED(A, b, capping=1, mode='fixed', node_update_schedule_enter=node_update_schedule, node_updates_per_pe=1, number_pes=num_nodes//2, TRUE_MEAN=final_mean, max_iter=10000, mae=False, convergence_threshold=async_convergence_threshold, show=False)\n",
    "#     sum_of_iterations += iteration\n",
    "\n",
    "# print(f\"AVE. ASYNC ITERATIONS = {sum_of_iterations/num_iterations}\")"
   ]
  },
  {
   "cell_type": "code",
   "execution_count": null,
   "metadata": {},
   "outputs": [],
   "source": [
    "# async_convergence_threshold = 1*10**-2\n",
    "\n",
    "# sum_of_iterations_capping_no_shuffle = 0\n",
    "# sum_of_iterations_capping_shuffle = 0\n",
    "\n",
    "# sum_of_iterations_no_capping_no_shuffle = 0\n",
    "# sum_of_iterations_no_capping_shuffle = 0\n",
    "\n",
    "# num_iterations = 10000\n",
    "\n",
    "# for it in range(0,num_iterations):\n",
    "#     print(f\"-------------- ITERATION = {it+1} --------------\")\n",
    "#     node_update_schedule = np.arange(num_nodes, dtype=np.int64)\n",
    "#     np.random.shuffle(node_update_schedule)\n",
    "    \n",
    "#     # CAPPING (NO SHUFFLED)\n",
    "#     P_i, mu_i, iteration = run_GaBP_HARDWARE_ACCELERATED(A, b, capping=1, mode='fixed', node_update_schedule_enter=node_update_schedule, node_updates_per_pe=1, number_pes=num_nodes//2, TRUE_MEAN=final_mean, max_iter=10000, mae=False, convergence_threshold=async_convergence_threshold, show=False)\n",
    "#     sum_of_iterations_capping_shuffle += iteration\n",
    "    \n",
    "#     # CAPPING (SHUFFLED)\n",
    "#     P_i, mu_i, iteration = run_GaBP_HARDWARE_ACCELERATED(A, b, shuffled_fixed=False, capping=1, mode='fixed', node_update_schedule_enter=node_update_schedule, node_updates_per_pe=1, number_pes=num_nodes//2, TRUE_MEAN=final_mean, max_iter=10000, mae=False, convergence_threshold=async_convergence_threshold, show=False)\n",
    "#     sum_of_iterations_capping_no_shuffle += iteration\n",
    "\n",
    "#     # NO CAPPING (NO SHUFFLED)\n",
    "#     P_i, mu_i, iteration = run_GaBP_HARDWARE_ACCELERATED(A, b, capping=2, mode='fixed', node_update_schedule_enter=node_update_schedule, node_updates_per_pe=1, number_pes=num_nodes//2, TRUE_MEAN=final_mean, max_iter=10000, mae=False, convergence_threshold=async_convergence_threshold, show=False)\n",
    "#     sum_of_iterations_no_capping_shuffle += iteration\n",
    "    \n",
    "#     # NO CAPPING (NO SHUFFLED)\n",
    "#     P_i, mu_i, iteration = run_GaBP_HARDWARE_ACCELERATED(A, b, shuffled_fixed=False, capping=2, mode='fixed', node_update_schedule_enter=node_update_schedule, node_updates_per_pe=1, number_pes=num_nodes//2, TRUE_MEAN=final_mean, max_iter=10000, mae=False, convergence_threshold=async_convergence_threshold, show=False)\n",
    "#     sum_of_iterations_no_capping_no_shuffle += iteration\n",
    "\n",
    "\n",
    "# print(f\"AVE. ASYNC ITERATIONS (Capping & No Shuffle) = {sum_of_iterations_capping_no_shuffle/num_iterations}\")\n",
    "# print(\"----------\")\n",
    "# print(f\"AVE. ASYNC ITERATIONS (Capping & Shuffle) = {sum_of_iterations_capping_shuffle/num_iterations}\")\n",
    "# print(\"----------\")\n",
    "# print(f\"AVE. ASYNC ITERATIONS (No Capping & No Shuffle) = {sum_of_iterations_no_capping_no_shuffle/num_iterations}\")\n",
    "# print(\"----------\")\n",
    "# print(f\"AVE. ASYNC ITERATIONS (No Capping & Shuffle) = {sum_of_iterations_no_capping_shuffle/num_iterations}\")"
   ]
  },
  {
   "cell_type": "markdown",
   "metadata": {},
   "source": [
    "### Test"
   ]
  },
  {
   "cell_type": "code",
   "execution_count": null,
   "metadata": {},
   "outputs": [],
   "source": [
    "# from numba import njit\n",
    "# from numba.typed import List\n",
    "\n",
    "# @njit(fastmath=True)\n",
    "# def assign_values_to_pes_fixed(node_update_schedule, \n",
    "#                                 node_updates_per_pe, \n",
    "#                                 number_pes, \n",
    "#                                 current_index):\n",
    "#     # select number of nodes\n",
    "#     total_num_nodes = number_pes * node_updates_per_pe\n",
    "    \n",
    "#     # Get the current index to start from\n",
    "#     start_index = current_index\n",
    "    \n",
    "#     # Calculate end index\n",
    "#     end_index = (start_index + total_num_nodes) % len(node_update_schedule)\n",
    "\n",
    "#     # Handle wrap-around case\n",
    "#     if end_index > start_index:\n",
    "#         values_pool = node_update_schedule[start_index:end_index]\n",
    "#     else:\n",
    "#         values_pool = node_update_schedule[start_index:] + node_update_schedule[:end_index]\n",
    "\n",
    "#     # Distribute values among PEs\n",
    "#     PEs = {}\n",
    "#     for i in range(number_pes):\n",
    "#         start_index = i * node_updates_per_pe\n",
    "#         end_index = min((i + 1) * node_updates_per_pe, total_num_nodes)\n",
    "#         pe_values = values_pool[start_index:end_index]\n",
    "#         # Ensure all values are integers\n",
    "#         pe_values = List(pe_values)\n",
    "#         PEs[i] = pe_values\n",
    "\n",
    "#     # Update current index for next call\n",
    "#     current_index = (current_index + total_num_nodes) % len(node_update_schedule)\n",
    "#     return PEs, current_index\n",
    "\n",
    "# # Example usage:\n",
    "# node_update_schedule = [0, 1, 2, 3, 4, 5, 6, 7, 8, 9]\n",
    "# node_updates_per_pe = 1\n",
    "# number_pes = 1\n",
    "# current_index = 0\n",
    "\n",
    "# # Execute the function several times to demonstrate behavior\n",
    "# for _ in range(5):\n",
    "#     pes, current_index = assign_values_to_pes_fixed(\n",
    "#         node_update_schedule=node_update_schedule,\n",
    "#         node_updates_per_pe=node_updates_per_pe,\n",
    "#         number_pes=number_pes,\n",
    "#         current_index=current_index\n",
    "#     )\n",
    "#     print(pes)"
   ]
  },
  {
   "cell_type": "code",
   "execution_count": null,
   "metadata": {},
   "outputs": [],
   "source": [
    "# pes, current_index = assign_values_to_pes_fixed(node_update_schedule=node_update_schedule, node_updates_per_pe=node_updates_per_pe, number_pes=number_pes, current_index=current_index)\n",
    "# print(pes)\n",
    "\n",
    "# pes, current_index = assign_values_to_pes_fixed(node_update_schedule=node_update_schedule, node_updates_per_pe=node_updates_per_pe, number_pes=number_pes, current_index=current_index)\n",
    "# print(pes)"
   ]
  }
 ],
 "metadata": {
  "kernelspec": {
   "display_name": "Python 3",
   "language": "python",
   "name": "python3"
  },
  "language_info": {
   "codemirror_mode": {
    "name": "ipython",
    "version": 3
   },
   "file_extension": ".py",
   "mimetype": "text/x-python",
   "name": "python",
   "nbconvert_exporter": "python",
   "pygments_lexer": "ipython3",
   "version": "3.10.6"
  }
 },
 "nbformat": 4,
 "nbformat_minor": 2
}
