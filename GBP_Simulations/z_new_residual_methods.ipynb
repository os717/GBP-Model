{
 "cells": [
  {
   "cell_type": "code",
   "execution_count": null,
   "metadata": {},
   "outputs": [],
   "source": [
    "import json\n",
    "import matplotlib.pyplot as plt\n",
    "import numpy as np\n",
    "import warnings\n",
    "import datetime\n",
    "import argparse\n",
    "import threading\n",
    "import multiprocessing\n",
    "import os\n",
    "\n",
    "from tqdm import tqdm\n",
    "\n",
    "from GBP.data import DataGenerator\n",
    "from GBP.gbp import run_GaBP_SYNC_ACCELERATED, run_GaBP_HARDWARE_ACCELERATED, run_GaBP_HARDWARE_ACCELERATED_RESIDUAL_T_nP, run_GaBP_HARDWARE_ACCELERATED_RESIDUAL_T_MAX, run_GaBP_HARDWARE_ACCELERATED_EXCLUSION, run_GaBP_HARDWARE_ACCELERATED_RESIDUAL, run_GaBP_HARDWARE_ACCELERATED_RESIDUAL_T_nP\n",
    "from GBP.utilities import HiddenPrints\n",
    "from GBP.visulisation import set_plot_options, get_plot_colors, NetworkxGraph, AnalyzeResult\n",
    "\n",
    "# Option 1: Suppress all warnings\n",
    "warnings.filterwarnings(\"ignore\")\n",
    "\n",
    "set_plot_options()\n",
    "colors = get_plot_colors()\n",
    "\n",
    "data_gen = DataGenerator()\n",
    "result_analyzer = AnalyzeResult()"
   ]
  },
  {
   "cell_type": "code",
   "execution_count": null,
   "metadata": {},
   "outputs": [],
   "source": [
    "dataset = 'input_MITb_g2o'\n",
    "filepath_n = 'GBP/Raw_Datasets/gbp_data'\n",
    "factor_data = os.path.join(filepath_n, f'{dataset}_factor_data.txt')\n",
    "marginal_data = os.path.join(filepath_n, f'{dataset}_marginal_data.txt')\n",
    "\n",
    "A, b = data_gen.fetch_SLAM_dataset(file_path_factor=factor_data, file_path_marginal=marginal_data)"
   ]
  },
  {
   "cell_type": "code",
   "execution_count": null,
   "metadata": {},
   "outputs": [],
   "source": [
    "sync_convergence_threshold = 1*10**-8\n",
    "\n",
    "NODE_UPDT_PE = 100\n",
    "PEs = 1\n",
    "\n",
    "ASYNC_ITER = 10"
   ]
  },
  {
   "cell_type": "markdown",
   "metadata": {},
   "source": [
    "#### Sync"
   ]
  },
  {
   "cell_type": "code",
   "execution_count": null,
   "metadata": {},
   "outputs": [],
   "source": [
    "sync_convergence_threshold = 1*10**-8 # convergence threshold\n",
    "convergence_type = 'all' #all\n",
    "simulation_convergence_threshold = 1*10**-8\n",
    "\n",
    "P_i, mu_i, N_i, P_ii, mu_ii, P_ij, mu_ij, iter_dist, stand_divs, means, iteration = run_GaBP_SYNC_ACCELERATED(A, \n",
    "                                                                                                      b, \n",
    "                                                                                                      max_iter=100_000, \n",
    "                                                                                                      mae=True if convergence_type == 'mae' else False, \n",
    "                                                                                                      convergence_threshold=simulation_convergence_threshold,\n",
    "                                                                                                      show=True)\n",
    "final_mean = list(mu_i)"
   ]
  },
  {
   "cell_type": "markdown",
   "metadata": {},
   "source": [
    "### Residual - Probability Method (UPDT) - previous T max"
   ]
  },
  {
   "cell_type": "code",
   "execution_count": null,
   "metadata": {},
   "outputs": [],
   "source": [
    "async_convergence_threshold = 1 * 10**-5\n",
    "\n",
    "sum_of_iterations = 0\n",
    "num_iterations = ASYNC_ITER\n",
    "\n",
    "# Track the valid iterations for averaging\n",
    "valid_iterations = 0\n",
    "\n",
    "for it in range(num_iterations):\n",
    "    while True:\n",
    "        # Run the hardware-accelerated residual function\n",
    "        P_i, mu_i, iteration, prev_t_max, PADDING_ANALYTICS = run_GaBP_HARDWARE_ACCELERATED_RESIDUAL_T_MAX(A, b, SCALING=False, SHUFFLE_STREAM=False, CURR_T_MAX=False, caching=True, node_updates_per_pe=NODE_UPDT_PE, number_pes=PEs, TRUE_MEAN=final_mean, max_iter=10000, mae=True, convergence_threshold=async_convergence_threshold, show=False)\n",
    "        \n",
    "        # Check if iteration is valid\n",
    "        if iteration <= 10000:\n",
    "            sum_of_iterations += iteration\n",
    "            valid_iterations += 1\n",
    "            break  # Exit the while loop and proceed to the next for loop iteration\n",
    "        else:\n",
    "            print(f\"Iteration {it+1} exceeded 10000 steps. Repeating...\")\n",
    "\n",
    "    print(f\"-------------- ITERATION = {it+1} => Streams = {iteration} --------------\")\n",
    "\n",
    "# Calculate the average of valid iterations\n",
    "if valid_iterations > 0:\n",
    "    average_iterations = sum_of_iterations / valid_iterations\n",
    "else:\n",
    "    average_iterations = 0\n",
    "\n",
    "print(f\"AVE. ASYNC ITERATIONS = {average_iterations}\")\n",
    "\n",
    "print(PADDING_ANALYTICS)\n",
    "print(sum(PADDING_ANALYTICS))\n",
    "print(sum(PADDING_ANALYTICS)/len(PADDING_ANALYTICS))"
   ]
  },
  {
   "cell_type": "code",
   "execution_count": null,
   "metadata": {},
   "outputs": [],
   "source": [
    "async_convergence_threshold = 1 * 10**-5\n",
    "\n",
    "sum_of_iterations = 0\n",
    "num_iterations = ASYNC_ITER\n",
    "\n",
    "# Track the valid iterations for averaging\n",
    "valid_iterations = 0\n",
    "\n",
    "for it in range(num_iterations):\n",
    "    while True:\n",
    "        # Run the hardware-accelerated residual function\n",
    "        P_i, mu_i, iteration, prev_t_max, PADDING_ANALYTICS = run_GaBP_HARDWARE_ACCELERATED_RESIDUAL_T_nP(A, b, SCALING=False, SHUFFLE_STREAM=False, CURR_T_MAX=False, caching=True, node_updates_per_pe=NODE_UPDT_PE, number_pes=PEs, TRUE_MEAN=final_mean, max_iter=1000, mae=True, convergence_threshold=async_convergence_threshold, show=True)\n",
    "        \n",
    "        # Check if iteration is valid\n",
    "        if iteration <= 1000:\n",
    "            sum_of_iterations += iteration\n",
    "            valid_iterations += 1\n",
    "            break  # Exit the while loop and proceed to the next for loop iteration\n",
    "        else:\n",
    "            print(f\"Iteration {it+1} exceeded 1000 steps. Repeating...\")\n",
    "\n",
    "    print(f\"-------------- ITERATION = {it+1} => Streams = {iteration} --------------\")\n",
    "\n",
    "# Calculate the average of valid iterations\n",
    "if valid_iterations > 0:\n",
    "    average_iterations = sum_of_iterations / valid_iterations\n",
    "else:\n",
    "    average_iterations = 0\n",
    "\n",
    "print(f\"AVE. ASYNC ITERATIONS = {average_iterations}\")\n",
    "\n",
    "print(PADDING_ANALYTICS)\n",
    "print(sum(PADDING_ANALYTICS))\n",
    "print(sum(PADDING_ANALYTICS)/len(PADDING_ANALYTICS))"
   ]
  }
 ],
 "metadata": {
  "kernelspec": {
   "display_name": "Python 3",
   "language": "python",
   "name": "python3"
  },
  "language_info": {
   "codemirror_mode": {
    "name": "ipython",
    "version": 3
   },
   "file_extension": ".py",
   "mimetype": "text/x-python",
   "name": "python",
   "nbconvert_exporter": "python",
   "pygments_lexer": "ipython3",
   "version": "3.10.6"
  }
 },
 "nbformat": 4,
 "nbformat_minor": 2
}
