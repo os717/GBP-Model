{
 "cells": [
  {
   "cell_type": "code",
   "execution_count": null,
   "metadata": {},
   "outputs": [],
   "source": [
    "from GBP.data import DataGenerator\n",
    "from GBP.gbp import run_GaBP_SYNC, run_GaBP_HARDWARE, run_GaBP_HARDWARE_WORSTCASE, run_GaBP_HARDWARE_BESTCASE, run_GaBP_SYNC_TEST\n",
    "from GBP.utilities import HiddenPrints\n",
    "from GBP.visulisation import set_plot_options, get_plot_colors, NetworkxGraph, AnalyzeResult\n",
    "\n",
    "import warnings\n",
    "import matplotlib\n",
    "import numpy as np\n",
    "import math\n",
    "import random\n",
    "\n",
    "# Option 1: Suppress all warnings\n",
    "warnings.filterwarnings(\"ignore\")\n",
    "\n",
    "set_plot_options()\n",
    "colors = get_plot_colors()\n",
    "\n",
    "data_gen = DataGenerator()\n",
    "result_analyzer = AnalyzeResult()"
   ]
  },
  {
   "cell_type": "code",
   "execution_count": null,
   "metadata": {},
   "outputs": [],
   "source": [
    "num_nodes = 100\n",
    "\n",
    "number_pes = 1\n",
    "\n",
    "A, b = data_gen.get_1D_line_matrix(num_nodes, scaling=True, normalized=False)\n",
    "# A, b = data_gen.get_2D_lattice_matrix(num_nodes, num_nodes)\n",
    "graph = NetworkxGraph(A)\n",
    "# graph.draw_graph()\n",
    "\n",
    "convergence_threshold = 1*10**-5"
   ]
  },
  {
   "cell_type": "code",
   "execution_count": null,
   "metadata": {},
   "outputs": [],
   "source": [
    "sum_of_iterations = 0\n",
    "num_iterations = 1\n",
    "\n",
    "for it in range(0,num_iterations):\n",
    "    P_i, mu_i, N_i, P_ii, mu_ii, P_ij, mu_ij, iter_dist, stand_divs, means, iteration = run_GaBP_SYNC(A, b, max_iter=1000, mae=False, convergence_threshold=convergence_threshold)\n",
    "    sum_of_iterations += iteration\n",
    "    final_mean = means[-1]\n",
    "    final_std = stand_divs[-1]\n",
    "    print(it)\n",
    "\n",
    "print(f\"AVE. SYNC ITERATIONS = {sum_of_iterations/num_iterations}\")\n",
    "\n",
    "print(final_mean)"
   ]
  },
  {
   "cell_type": "code",
   "execution_count": null,
   "metadata": {},
   "outputs": [],
   "source": [
    "RESULTS = []\n",
    "RESULT_WORST_CASE = []\n",
    "RESULT_BEST_CASE = []"
   ]
  },
  {
   "cell_type": "code",
   "execution_count": null,
   "metadata": {},
   "outputs": [],
   "source": [
    "for node_updates_per_pe in range(1, num_nodes+1):\n",
    "\n",
    "    sum_of_iterations = 0\n",
    "    num_iterations = 100\n",
    "\n",
    "    node_updates_per_stream = number_pes*node_updates_per_pe\n",
    "\n",
    "    for it in range(0,num_iterations):\n",
    "        P_i, mu_i, N_i, P_ii, mu_ii, P_ij, mu_ij, iter_dist, stand_divs, means, iteration, _ , _  = run_GaBP_HARDWARE(A, b, node_updates_per_pe=node_updates_per_pe, number_pes=number_pes, TRUE_MEAN=final_mean, max_iter=10000, mae=False, convergence_threshold=1, show=True)\n",
    "        sum_of_iterations += iteration\n",
    "        print(it)\n",
    "        print(\"-----------\")\n",
    "\n",
    "\n",
    "    print(means[-1])\n",
    "    print(f\"AVE. WORSTCASE = {sum_of_iterations/num_iterations}\")\n",
    "\n",
    "    RESULTS.append(sum_of_iterations/num_iterations)"
   ]
  },
  {
   "cell_type": "code",
   "execution_count": null,
   "metadata": {},
   "outputs": [],
   "source": [
    "for node_updates_per_pe in range(1, num_nodes+1):\n",
    "\n",
    "    sum_of_iterations = 0\n",
    "    num_iterations = 100\n",
    "\n",
    "    node_updates_per_stream = number_pes*node_updates_per_pe\n",
    "\n",
    "    for it in range(0,num_iterations):\n",
    "        P_i, mu_i, N_i, P_ii, mu_ii, P_ij, mu_ij, iter_dist, stand_divs, means, iteration, _ , _  = run_GaBP_HARDWARE_WORSTCASE(A, b, node_updates_per_stream=node_updates_per_stream, TRUE_MEAN=final_mean, max_iter=10000, mae=False, convergence_threshold=0.1)\n",
    "        sum_of_iterations += iteration\n",
    "        print(it)\n",
    "        print(\"-----------\")\n",
    "\n",
    "    print(means[-1])\n",
    "    print(f\"AVE. WORSTCASE = {sum_of_iterations/num_iterations}\")\n",
    "\n",
    "    RESULT_WORST_CASE.append(sum_of_iterations/num_iterations)"
   ]
  },
  {
   "cell_type": "code",
   "execution_count": null,
   "metadata": {},
   "outputs": [],
   "source": [
    "for node_updates_per_pe in range(1, num_nodes+1):\n",
    "\n",
    "    sum_of_iterations = 0\n",
    "    num_iterations = 100\n",
    "\n",
    "    node_updates_per_stream = number_pes*node_updates_per_pe\n",
    "\n",
    "    for it in range(0,num_iterations):\n",
    "        P_i, mu_i, N_i, P_ii, mu_ii, P_ij, mu_ij, iter_dist, stand_divs, means, iteration = run_GaBP_HARDWARE_BESTCASE(A, b, node_updates_per_stream=node_updates_per_stream, TRUE_MEAN=final_mean, max_iter=10000, mae=False, convergence_threshold=0.1)\n",
    "        sum_of_iterations += iteration\n",
    "        print(it)\n",
    "        print(\"-----------\")\n",
    "\n",
    "    print(f\"AVE. IDEAL = {sum_of_iterations/num_iterations}\")\n",
    "\n",
    "    RESULT_BEST_CASE.append(sum_of_iterations/num_iterations)"
   ]
  },
  {
   "cell_type": "code",
   "execution_count": null,
   "metadata": {},
   "outputs": [],
   "source": [
    "import matplotlib.pyplot as plt\n",
    "\n",
    "# Sample x and y data\n",
    "x_values = [i for i in range(1, num_nodes+1)]\n",
    "\n",
    "# Create the plot\n",
    "plt.plot(x_values, RESULTS, label='Results')\n",
    "plt.plot(x_values, RESULT_WORST_CASE, label='Worst Case')\n",
    "plt.plot(x_values, RESULT_BEST_CASE, label='Best Case')\n",
    "\n",
    "# Add labels and title\n",
    "plt.xlabel('Number of Nodes')\n",
    "plt.ylabel('Results')\n",
    "plt.title('Performance Analysis')\n",
    "plt.legend()  # Add legend based on labels provided in plot()\n",
    "\n",
    "# Show the plot\n",
    "plt.show()"
   ]
  }
 ],
 "metadata": {
  "kernelspec": {
   "display_name": "Python 3",
   "language": "python",
   "name": "python3"
  },
  "language_info": {
   "codemirror_mode": {
    "name": "ipython",
    "version": 3
   },
   "file_extension": ".py",
   "mimetype": "text/x-python",
   "name": "python",
   "nbconvert_exporter": "python",
   "pygments_lexer": "ipython3",
   "version": "3.10.6"
  }
 },
 "nbformat": 4,
 "nbformat_minor": 2
}
