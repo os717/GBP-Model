{
 "cells": [
  {
   "cell_type": "code",
   "execution_count": 34,
   "metadata": {},
   "outputs": [],
   "source": [
    "from numba.typed import Dict\n",
    "from numba import types\n",
    "from numba import njit, types\n",
    "from numba.typed import Dict, List\n",
    "\n",
    "# @njit(fastmath=True)\n",
    "def check_value_in_previous_pes(PEs: dict, pe_id: int, value: int, inc_current: bool = False) -> bool:\n",
    "    \"\"\"\n",
    "    Check if a given value is present in the NumPy array for a specified processing element (PE).\n",
    "    If inc_current is True, it also checks in the current PE.\n",
    "\n",
    "    Args:\n",
    "    PEs (dict): A dictionary where each key is a PE id and each value is a NumPy array of node indices.\n",
    "    pe_id (int): The processing element id to check the value against.\n",
    "    value (int): The value (node index) to check for.\n",
    "    inc_current (bool): Whether to include the current PE's array in the check.\n",
    "\n",
    "    Returns:bool: True if the value is found in the specified PE's array, False otherwise.\n",
    "    \"\"\"\n",
    "    \n",
    "    for id in range(0, pe_id + int(inc_current)):\n",
    "        array = PEs[id]  # Directly access the array if the key exists\n",
    "        if value in array:\n",
    "            return True\n",
    "    return False  # Return False if the key does not exist"
   ]
  },
  {
   "cell_type": "code",
   "execution_count": 35,
   "metadata": {},
   "outputs": [
    {
     "name": "stdout",
     "output_type": "stream",
     "text": [
      "Is 22 present in PE 2 (excluding current)? False\n",
      "Is 22 present in PE 2 (including current)? True\n"
     ]
    }
   ],
   "source": [
    "import numpy as np\n",
    "\n",
    "# Define a dictionary of processing elements (PEs) with NumPy arrays\n",
    "PEs = {\n",
    "    0: [10, 20, 30],\n",
    "    1: [15, 25, 35],\n",
    "    2: [12, 22, 32]\n",
    "}\n",
    "\n",
    "# Define the value to check\n",
    "value_to_check = 22\n",
    "\n",
    "# Define the processing element id to check against\n",
    "pe_id_to_check = 2\n",
    "\n",
    "# Check if the value is present in the specified PE's array (without including the current PE)\n",
    "result_without_current = check_value_in_previous_pes(PEs, pe_id_to_check, value_to_check)\n",
    "print(f\"Is {value_to_check} present in PE {pe_id_to_check} (excluding current)? {result_without_current}\")\n",
    "\n",
    "# Check if the value is present in the specified PE's array (including the current PE)\n",
    "result_with_current = check_value_in_previous_pes(PEs, pe_id_to_check, value_to_check, inc_current=True)\n",
    "print(f\"Is {value_to_check} present in PE {pe_id_to_check} (including current)? {result_with_current}\")"
   ]
  }
 ],
 "metadata": {
  "kernelspec": {
   "display_name": "Python 3",
   "language": "python",
   "name": "python3"
  },
  "language_info": {
   "codemirror_mode": {
    "name": "ipython",
    "version": 3
   },
   "file_extension": ".py",
   "mimetype": "text/x-python",
   "name": "python",
   "nbconvert_exporter": "python",
   "pygments_lexer": "ipython3",
   "version": "3.10.6"
  }
 },
 "nbformat": 4,
 "nbformat_minor": 2
}
