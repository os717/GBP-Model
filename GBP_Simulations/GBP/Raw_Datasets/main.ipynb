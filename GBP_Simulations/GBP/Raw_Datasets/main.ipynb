{
 "cells": [
  {
   "cell_type": "code",
   "execution_count": 1,
   "metadata": {},
   "outputs": [],
   "source": [
    "import numpy as np\n",
    "import os\n",
    "\n",
    "def parse_g20_file(file_path):\n",
    "    vertices = set()  # Use a set to ensure unique vertices\n",
    "    edges = []\n",
    "\n",
    "    with open(file_path, 'r') as file:\n",
    "        lines = file.readlines()\n",
    "        for line in lines:\n",
    "            parts = line.strip().split()\n",
    "            if parts[0] == 'VERTEX_SE2':\n",
    "                vertex_id = int(parts[1])\n",
    "                vertices.add(vertex_id)\n",
    "            elif parts[0] == 'EDGE_SE2':\n",
    "                vertex1 = int(parts[1])\n",
    "                vertex2 = int(parts[2])\n",
    "                edges.append((vertex1, vertex2))\n",
    "\n",
    "    return sorted(vertices), edges  # Sorting to maintain order\n",
    "\n",
    "def create_adjacency_matrix(vertices, edges):\n",
    "    n = len(vertices)\n",
    "    adjacency_matrix = np.zeros((n, n), dtype=int)\n",
    "\n",
    "    vertex_index = {vertex: idx for idx, vertex in enumerate(vertices)}\n",
    "\n",
    "    for edge in edges:\n",
    "        vertex1, vertex2 = edge\n",
    "        idx1 = vertex_index[vertex1]\n",
    "        idx2 = vertex_index[vertex2]\n",
    "        adjacency_matrix[idx1][idx2] = 1\n",
    "        adjacency_matrix[idx2][idx1] = 1  # Assuming the graph is undirected\n",
    "\n",
    "    return adjacency_matrix"
   ]
  },
  {
   "cell_type": "code",
   "execution_count": 2,
   "metadata": {},
   "outputs": [],
   "source": [
    "# dataset = \"data/input_INTEL_g2o.g2o\"\n",
    "dataset = \"data/input_M3500_g2o.g2o\"\n",
    "# dataset = \"data/input_MITb_g2o.g2o\""
   ]
  },
  {
   "cell_type": "code",
   "execution_count": 6,
   "metadata": {},
   "outputs": [
    {
     "name": "stdout",
     "output_type": "stream",
     "text": [
      "[[0 1 0 ... 0 0 0]\n",
      " [1 0 1 ... 0 0 0]\n",
      " [0 1 0 ... 0 0 0]\n",
      " ...\n",
      " [0 0 0 ... 0 1 0]\n",
      " [0 0 0 ... 1 0 1]\n",
      " [0 0 0 ... 0 1 0]]\n",
      "3500\n",
      "unique edge count = 5453\n",
      "Average connectivity: 1.558\n",
      "(3500, 3500)\n"
     ]
    }
   ],
   "source": [
    "vertices, edges = parse_g20_file(dataset)\n",
    "adjacency_matrix = create_adjacency_matrix(vertices, edges)\n",
    "\n",
    "print(adjacency_matrix)\n",
    "\n",
    "print(adjacency_matrix.shape[0])\n",
    "\n",
    "unique_edges_count = np.count_nonzero(np.triu(adjacency_matrix, k=1))\n",
    "print(f\"unique edge count = {unique_edges_count}\")\n",
    "\n",
    "num_nodes = adjacency_matrix.shape[0]\n",
    "average_connectivity = unique_edges_count / num_nodes\n",
    "print(\"Average connectivity:\", average_connectivity)\n",
    "\n",
    "print(adjacency_matrix.shape)"
   ]
  },
  {
   "cell_type": "code",
   "execution_count": 9,
   "metadata": {},
   "outputs": [],
   "source": [
    "np.savetxt('adjacency_matrix.txt', adjacency_matrix)"
   ]
  },
  {
   "cell_type": "code",
   "execution_count": 4,
   "metadata": {},
   "outputs": [],
   "source": [
    "# import numpy as np\n",
    "# import networkx as nx\n",
    "# import matplotlib.pyplot as plt\n",
    "\n",
    "# # Create a graph from the adjacency matrix\n",
    "# G = nx.from_numpy_array(adjacency_matrix)\n",
    "\n",
    "# # Draw the graph\n",
    "# plt.figure(figsize=(8, 6))\n",
    "# nx.draw(G, with_labels=False, node_color='lightblue', edge_color='gray', node_size=1, font_size=16)\n",
    "# plt.title(\"Graph from Adjacency Matrix\")\n",
    "# plt.show()"
   ]
  }
 ],
 "metadata": {
  "kernelspec": {
   "display_name": "Python 3",
   "language": "python",
   "name": "python3"
  },
  "language_info": {
   "codemirror_mode": {
    "name": "ipython",
    "version": 3
   },
   "file_extension": ".py",
   "mimetype": "text/x-python",
   "name": "python",
   "nbconvert_exporter": "python",
   "pygments_lexer": "ipython3",
   "version": "3.10.6"
  }
 },
 "nbformat": 4,
 "nbformat_minor": 2
}
