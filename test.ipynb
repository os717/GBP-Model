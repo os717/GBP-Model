{
 "cells": [
  {
   "cell_type": "code",
   "execution_count": 1,
   "metadata": {},
   "outputs": [
    {
     "name": "stdout",
     "output_type": "stream",
     "text": [
      "[0.1, 0.23200000000000004, 0.384, 0.5439999999999999, 0.7]\n"
     ]
    }
   ],
   "source": [
    "def scale_values(values):\n",
    "    n = len(values)\n",
    "    scaled_values = [\n",
    "        v * (1 + (i / n) * (1 - v)) for i, v in enumerate(values)\n",
    "    ]\n",
    "    return scaled_values\n",
    "\n",
    "# Example usage\n",
    "values = [0.1, 0.2, 0.3, 0.4, 0.5]\n",
    "scaled_values = scale_values(values)\n",
    "print(scaled_values)"
   ]
  },
  {
   "cell_type": "code",
   "execution_count": 12,
   "metadata": {},
   "outputs": [
    {
     "data": {
      "text/plain": [
       "0.5"
      ]
     },
     "execution_count": 12,
     "metadata": {},
     "output_type": "execute_result"
    }
   ],
   "source": [
    "0.1 * (1 + 0/5 * (1-0.1))"
   ]
  }
 ],
 "metadata": {
  "kernelspec": {
   "display_name": "base",
   "language": "python",
   "name": "python3"
  },
  "language_info": {
   "codemirror_mode": {
    "name": "ipython",
    "version": 3
   },
   "file_extension": ".py",
   "mimetype": "text/x-python",
   "name": "python",
   "nbconvert_exporter": "python",
   "pygments_lexer": "ipython3",
   "version": "3.10.6"
  }
 },
 "nbformat": 4,
 "nbformat_minor": 2
}
