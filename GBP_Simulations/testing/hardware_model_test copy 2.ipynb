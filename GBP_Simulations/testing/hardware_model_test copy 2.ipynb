{
 "cells": [
  {
   "cell_type": "code",
   "execution_count": 1,
   "metadata": {},
   "outputs": [],
   "source": [
    "from GBP.data import DataGenerator\n",
    "from GBP.gbp import run_GaBP_SYNC_ACCELERATED, run_GaBP_HARDWARE_ACCELERATED\n",
    "from GBP.utilities import HiddenPrints\n",
    "from GBP.visulisation import set_plot_options, get_plot_colors, NetworkxGraph, AnalyzeResult\n",
    "\n",
    "import warnings\n",
    "import matplotlib\n",
    "import numpy as np\n",
    "import math\n",
    "import random\n",
    "\n",
    "# Option 1: Suppress all warnings\n",
    "warnings.filterwarnings(\"ignore\")\n",
    "\n",
    "set_plot_options()\n",
    "colors = get_plot_colors()\n",
    "\n",
    "data_gen = DataGenerator()\n",
    "result_analyzer = AnalyzeResult()"
   ]
  },
  {
   "cell_type": "code",
   "execution_count": 5,
   "metadata": {},
   "outputs": [],
   "source": [
    "num_nodes = 10\n",
    "\n",
    "A, b = data_gen.get_1D_line_matrix(num_nodes, scaling=True, normalized=False)\n",
    "# A, b = data_gen.get_2D_lattice_matrix(num_nodes, num_nodes)\n",
    "graph = NetworkxGraph(A)\n",
    "# graph.draw_graph()\n",
    "\n",
    "sync_convergence_threshold = 1*10**-7"
   ]
  },
  {
   "cell_type": "code",
   "execution_count": 6,
   "metadata": {},
   "outputs": [
    {
     "name": "stdout",
     "output_type": "stream",
     "text": [
      "-------------- ITERATION = 1 --------------\n",
      "iteration: 1\n",
      "1.4024881107404388\n",
      "-----\n",
      "iteration: 2\n",
      "0.8712818717523412\n",
      "-----\n",
      "iteration: 3\n",
      "0.1469048503613603\n",
      "-----\n",
      "iteration: 4\n",
      "0.06115459372358739\n",
      "-----\n",
      "iteration: 5\n",
      "0.04239934921039441\n",
      "-----\n",
      "iteration: 6\n",
      "0.010413910511669509\n",
      "-----\n",
      "iteration: 7\n",
      "0.0022368943746150205\n",
      "-----\n",
      "iteration: 8\n",
      "0.0008417326462800189\n",
      "-----\n",
      "iteration: 9\n",
      "0.0007660426421087995\n",
      "-----\n",
      "iteration: 10\n",
      "0.0\n",
      "-----\n",
      "AVE. SYNC ITERATIONS = 10.0\n"
     ]
    }
   ],
   "source": [
    "sum_of_iterations = 0\n",
    "num_iterations = 1\n",
    "\n",
    "for it in range(0,num_iterations):\n",
    "    print(f\"-------------- ITERATION = {it+1} --------------\")\n",
    "    P_i, mu_i, N_i, P_ii, mu_ii, P_ij, mu_ij, iter_dist, stand_divs, means, iteration = run_GaBP_SYNC_ACCELERATED(A, b, max_iter=100000, mae=False, convergence_threshold=sync_convergence_threshold, show=True)\n",
    "    sum_of_iterations += iteration\n",
    "    final_mean = list(mu_i)\n",
    "    final_std = P_i\n",
    "\n",
    "print(f\"AVE. SYNC ITERATIONS = {sum_of_iterations/num_iterations}\")"
   ]
  },
  {
   "cell_type": "code",
   "execution_count": 7,
   "metadata": {},
   "outputs": [
    {
     "name": "stdout",
     "output_type": "stream",
     "text": [
      "AVE. ASYNC ITERATIONS: (n=1, p=1) = 116.63\n",
      "AVE. ASYNC ITERATIONS: (n=1, p=2) = 63.21\n",
      "AVE. ASYNC ITERATIONS: (n=1, p=3) = 44.27\n",
      "AVE. ASYNC ITERATIONS: (n=1, p=4) = 34.48\n",
      "AVE. ASYNC ITERATIONS: (n=1, p=5) = 29.46\n",
      "AVE. ASYNC ITERATIONS: (n=1, p=6) = 26.47\n",
      "AVE. ASYNC ITERATIONS: (n=1, p=7) = 23.69\n",
      "AVE. ASYNC ITERATIONS: (n=1, p=8) = 21.69\n",
      "AVE. ASYNC ITERATIONS: (n=1, p=9) = 19.68\n",
      "AVE. ASYNC ITERATIONS: (n=1, p=10) = 18.63\n",
      "AVE. ASYNC ITERATIONS: (n=2, p=1) = 63.44\n",
      "AVE. ASYNC ITERATIONS: (n=2, p=2) = 34.75\n",
      "AVE. ASYNC ITERATIONS: (n=2, p=3) = 25.41\n",
      "AVE. ASYNC ITERATIONS: (n=2, p=4) = 20.53\n",
      "AVE. ASYNC ITERATIONS: (n=2, p=5) = 18.11\n",
      "AVE. ASYNC ITERATIONS: (n=3, p=1) = 43.69\n",
      "AVE. ASYNC ITERATIONS: (n=3, p=2) = 25.26\n",
      "AVE. ASYNC ITERATIONS: (n=3, p=3) = 18.71\n",
      "AVE. ASYNC ITERATIONS: (n=4, p=1) = 33.98\n",
      "AVE. ASYNC ITERATIONS: (n=4, p=2) = 19.36\n",
      "AVE. ASYNC ITERATIONS: (n=5, p=1) = 27.35\n",
      "AVE. ASYNC ITERATIONS: (n=5, p=2) = 15.98\n",
      "AVE. ASYNC ITERATIONS: (n=6, p=1) = 22.9\n",
      "AVE. ASYNC ITERATIONS: (n=7, p=1) = 19.39\n",
      "AVE. ASYNC ITERATIONS: (n=8, p=1) = 16.14\n",
      "AVE. ASYNC ITERATIONS: (n=9, p=1) = 13.69\n",
      "AVE. ASYNC ITERATIONS: (n=10, p=1) = 11.0\n"
     ]
    }
   ],
   "source": [
    "async_convergence_threshold = 1*10**-5\n",
    "\n",
    "node_updates_per_pe_LIST = [i for i in range(1, num_nodes+1)]\n",
    "number_pes_LIST = [i for i in range(1, num_nodes+1)]\n",
    "\n",
    "dict_of_all_designs = {}\n",
    "for node_updates_per_pe in node_updates_per_pe_LIST:\n",
    "    for number_pes in number_pes_LIST:\n",
    "        if node_updates_per_pe*number_pes <= num_nodes:\n",
    "\n",
    "            sum_of_iterations = 0\n",
    "            num_iterations = 100\n",
    "\n",
    "            for it in range(0,num_iterations):\n",
    "                P_i, mu_i, iteration = run_GaBP_HARDWARE_ACCELERATED(A, b, node_updates_per_pe=node_updates_per_pe, number_pes=number_pes, TRUE_MEAN=final_mean, max_iter=10000, mae=False, convergence_threshold=async_convergence_threshold, show=False)\n",
    "                sum_of_iterations += iteration\n",
    "            print(f\"AVE. ASYNC ITERATIONS: (n={node_updates_per_pe}, p={number_pes}) = {sum_of_iterations/num_iterations}\")\n",
    "            dict_of_all_designs[(node_updates_per_pe, number_pes)] = sum_of_iterations/num_iterations"
   ]
  },
  {
   "cell_type": "code",
   "execution_count": 30,
   "metadata": {},
   "outputs": [
    {
     "data": {
      "image/png": "[encoded data removed]",
      "text/plain": [
       "<Figure size 900x500 with 2 Axes>"
      ]
     },
     "metadata": {},
     "output_type": "display_data"
    }
   ],
   "source": [
    "import numpy as np\n",
    "import matplotlib.pyplot as plt\n",
    "\n",
    "# Determine the size of the heatmap based on the maximum coordinates in the dictionary\n",
    "max_n = max(key[0] for key in dict_of_all_designs)\n",
    "max_p = max(key[1] for key in dict_of_all_designs)\n",
    "heatmap_size = (max_n, max_p)\n",
    "\n",
    "# Initialize the heatmap data with zeros\n",
    "data = np.zeros(heatmap_size)\n",
    "\n",
    "# Populate the heatmap data with values from the dictionary\n",
    "for key, value in dict_of_all_designs.items():\n",
    "    n, p = key[0], key[1]\n",
    "    data[n-1, p-1] = value\n",
    "\n",
    "# Plot the heatmap\n",
    "plt.imshow(data, cmap='hot', interpolation='nearest')\n",
    "plt.colorbar()  # Add colorbar to show the scale\n",
    "plt.title('2D Heatmap')\n",
    "plt.show()"
   ]
  },
  {
   "cell_type": "code",
   "execution_count": null,
   "metadata": {},
   "outputs": [],
   "source": []
  }
 ],
 "metadata": {
  "kernelspec": {
   "display_name": "Python 3",
   "language": "python",
   "name": "python3"
  },
  "language_info": {
   "codemirror_mode": {
    "name": "ipython",
    "version": 3
   },
   "file_extension": ".py",
   "mimetype": "text/x-python",
   "name": "python",
   "nbconvert_exporter": "python",
   "pygments_lexer": "ipython3",
   "version": "3.10.6"
  }
 },
 "nbformat": 4,
 "nbformat_minor": 2
}
