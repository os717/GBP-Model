{
 "cells": [
  {
   "cell_type": "code",
   "execution_count": null,
   "metadata": {},
   "outputs": [],
   "source": [
    "import random\n",
    "\n",
    "num_nodes = 10\n",
    "node_updates_per_pe = 1\n",
    "number_pes = 1\n",
    "\n",
    "PEs = {key: [] for key in range(1, number_pes+1)}\n",
    "\n",
    "print(PEs)"
   ]
  },
  {
   "cell_type": "code",
   "execution_count": null,
   "metadata": {},
   "outputs": [],
   "source": [
    "import random\n",
    "\n",
    "def assign_values_to_pes(num_nodes, node_updates_per_pe, number_pes):\n",
    "    # Create a pool of values to choose from\n",
    "    values_pool = list(range(0, num_nodes))\n",
    "    random.shuffle(values_pool)\n",
    "    \n",
    "    # Distribute values among PEs\n",
    "    PEs = {}\n",
    "    for i in range(number_pes):\n",
    "        start_index = i * node_updates_per_pe\n",
    "        end_index = min((i + 1) * node_updates_per_pe, num_nodes)\n",
    "        pe_values = values_pool[start_index:end_index]\n",
    "        PEs[i] = pe_values\n",
    "    \n",
    "    return PEs\n",
    "\n",
    "# Example usage:\n",
    "num_nodes = 5\n",
    "node_updates_per_pe = 1\n",
    "number_pes = 2\n",
    "\n",
    "PEs = assign_values_to_pes(num_nodes, node_updates_per_pe, number_pes)\n",
    "print(PEs)"
   ]
  },
  {
   "cell_type": "code",
   "execution_count": null,
   "metadata": {},
   "outputs": [],
   "source": [
    "def check_value_in_previous_pes(PEs, pe_id, value):\n",
    "    # Check if the value is in the current PE\n",
    "    if value in PEs.get(pe_id, []):\n",
    "        return True\n",
    "    \n",
    "    # Check if the value is in previous PEs\n",
    "    for key in range(1, pe_id):\n",
    "        if value in PEs[key]:\n",
    "            return True\n",
    "    \n",
    "    return False\n",
    "\n",
    "# Example usage:\n",
    "PEs = {0: [1, 2, 3], 1: [4, 5, 6], 2: [7, 8, 9]}\n",
    "pe_id = 1\n",
    "\n",
    "value = 5\n",
    "\n",
    "result = check_value_in_previous_pes(PEs, pe_id, value)\n",
    "print(f\"Is the value {value} in keys 1 to {pe_id}? {result}\")\n"
   ]
  },
  {
   "cell_type": "code",
   "execution_count": 2,
   "metadata": {},
   "outputs": [
    {
     "name": "stdout",
     "output_type": "stream",
     "text": [
      "Value found: False\n"
     ]
    }
   ],
   "source": [
    "import numpy as np\n",
    "from numba import njit\n",
    "\n",
    "@njit(fastmath=True)\n",
    "def check_value_in_previous_pes(PEs, pe_id, value, inc_current=False):\n",
    "    \"\"\"\n",
    "    Check if a given value is present in the NumPy array for a specified processing element (PE).\n",
    "    If inc_current is True, it also checks in the current PE.\n",
    "\n",
    "    Args:\n",
    "    PEs (dict): A dictionary where each key is a PE id and each value is a NumPy array of node indices.\n",
    "    pe_id (int): The processing element id to check the value against.\n",
    "    value (int): The value (node index) to check for.\n",
    "    inc_current (bool): Whether to include the current PE's array in the check.\n",
    "\n",
    "    Returns:\n",
    "    bool: True if the value is found in the specified PE's array, False otherwise.\n",
    "    \"\"\"\n",
    "    if pe_id in PEs:\n",
    "        array = PEs[pe_id]  # Directly access the array if the key exists\n",
    "        return value in array\n",
    "    else:\n",
    "        return False  # Return False if the key does not exist\n",
    "\n",
    "# Example usage within other Numba-compiled code might look like this:\n",
    "@njit\n",
    "def some_function_using_check():\n",
    "    PEs = {0: np.array([1, 2, 3], dtype=np.int64), 1: np.array([4, 5, 6], dtype=np.int64)}\n",
    "    pe_id = 0\n",
    "    value = 4\n",
    "    result = check_value_in_previous_pes(PEs, pe_id, value, inc_current=True)\n",
    "    print(\"Value found:\", result)\n",
    "\n",
    "some_function_using_check()"
   ]
  }
 ],
 "metadata": {
  "kernelspec": {
   "display_name": "Python 3",
   "language": "python",
   "name": "python3"
  },
  "language_info": {
   "codemirror_mode": {
    "name": "ipython",
    "version": 3
   },
   "file_extension": ".py",
   "mimetype": "text/x-python",
   "name": "python",
   "nbconvert_exporter": "python",
   "pygments_lexer": "ipython3",
   "version": "3.10.6"
  }
 },
 "nbformat": 4,
 "nbformat_minor": 2
}
