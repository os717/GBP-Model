{
 "cells": [
  {
   "cell_type": "code",
   "execution_count": 73,
   "metadata": {},
   "outputs": [
    {
     "name": "stdout",
     "output_type": "stream",
     "text": [
      "[0.1 0.1 0.1 0.1 0.1 0.1 0.1 0.1 0.1 0.1]\n",
      "Selected items: [9, 1, 3, 7, 2]\n"
     ]
    }
   ],
   "source": [
    "import numpy as np\n",
    "\n",
    "class WeightedRandomSelector:\n",
    "    def __init__(self, num_items):\n",
    "        self.selection_counts = np.zeros(num_items)\n",
    "\n",
    "    def select_items(self, items, num_items_to_select):\n",
    "        # Calculate weights inversely proportional to selection counts\n",
    "        weights = 1 / (1 + self.selection_counts)\n",
    "        \n",
    "        # Normalize weights\n",
    "        normalized_weights = weights / np.sum(weights)\n",
    "\n",
    "        print(normalized_weights)\n",
    "        \n",
    "        # Perform weighted random selection\n",
    "        selected_indices = np.random.choice(len(items), size=num_items_to_select, replace=False, p=normalized_weights)\n",
    "        \n",
    "        # Update selection counts\n",
    "        self.selection_counts[selected_indices] += 1\n",
    "        \n",
    "        return [items[i] for i in selected_indices]\n",
    "\n",
    "# Example usage\n",
    "items = [0, 1, 2, 3, 4, 5, 6, 7, 8, 9]\n",
    "selector = WeightedRandomSelector(len(items))\n",
    "\n",
    "# Select 5 items randomly\n",
    "selected_items = selector.select_items(items, num_items_to_select=5)\n",
    "print(\"Selected items:\", selected_items)"
   ]
  },
  {
   "cell_type": "code",
   "execution_count": 223,
   "metadata": {},
   "outputs": [
    {
     "name": "stdout",
     "output_type": "stream",
     "text": [
      "[0.10528288 0.09595402 0.1024374  0.10528288 0.09974168 0.10829096\n",
      " 0.0971842  0.09974168 0.09132973 0.09475459]\n",
      "Selected items: [7, 3, 0, 6, 1]\n"
     ]
    }
   ],
   "source": [
    "selected_items = selector.select_items(items, num_items_to_select=5)\n",
    "print(\"Selected itlksdmsdlmcsdlmcems:\", selected_items)"
   ]
  }
 ],
 "metadata": {
  "kernelspec": {
   "display_name": "base",
   "language": "python",
   "name": "python3"
  },
  "language_info": {
   "codemirror_mode": {
    "name": "ipython",
    "version": 3
   },
   "file_extension": ".py",
   "mimetype": "text/x-python",
   "name": "python",
   "nbconvert_exporter": "python",
   "pygments_lexer": "ipython3",
   "version": "3.11.7"
  }
 },
 "nbformat": 4,
 "nbformat_minor": 2
}
